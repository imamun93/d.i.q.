{
 "cells": [
  {
   "cell_type": "markdown",
   "metadata": {},
   "source": [
    "Given the following table schemas, how would you figure out the overall attendance rate for each grade on 2018-03-12? Answers will be provided in SQL for premium users."
   ]
  },
  {
   "cell_type": "markdown",
   "metadata": {},
   "source": [
    "### Table 1: student_attendance_log\n",
    "\n",
    "| Column Name | Data Type | Description |\n",
    "| --- | --- | --- |\n",
    "| date |string |date of log per student_id, format is 'yyyy-mm-dd' |\n",
    "| student_id | integer | id of the student |\n",
    "| attendance_status |string | Possible values are ['present', 'tardy', 'absent'] |"
   ]
  },
  {
   "cell_type": "markdown",
   "metadata": {},
   "source": [
    "### Table 2: student_demographic\n",
    "\n",
    "|Column Name | Data Type | Description |\n",
    "| --- | --- | --- |\n",
    "|student_id | integer | id of the student |\n",
    "|grade_level | integer | will be a value between 0-12, which corresponds |\n",
    "|date_of_birth | string | Student birth date, format is 'yyyy-mm-dd' |"
   ]
  },
  {
   "cell_type": "markdown",
   "metadata": {},
   "source": [
    "select student_demographic.grade_level, student_demographic.count(student_id) as total_student,\\\n",
    "student_attendance_log.attendance_status, student_attendance_log.attendance_status='present' as present,\\\n",
    "present*1/total_student as overall_Attendance"
   ]
  },
  {
   "cell_type": "markdown",
   "metadata": {},
   "source": [
    "The above is a simple solution.\\\n",
    "I am not sure of how functional it is as it's just a pseudo code for now.\\\n",
    "I will perhaps come back later and update it to see if it works"
   ]
  },
  {
   "cell_type": "code",
   "execution_count": null,
   "metadata": {},
   "outputs": [],
   "source": []
  }
 ],
 "metadata": {
  "kernelspec": {
   "display_name": "Python 3",
   "language": "python",
   "name": "python3"
  },
  "language_info": {
   "codemirror_mode": {
    "name": "ipython",
    "version": 3
   },
   "file_extension": ".py",
   "mimetype": "text/x-python",
   "name": "python",
   "nbconvert_exporter": "python",
   "pygments_lexer": "ipython3",
   "version": "3.7.4"
  }
 },
 "nbformat": 4,
 "nbformat_minor": 2
}

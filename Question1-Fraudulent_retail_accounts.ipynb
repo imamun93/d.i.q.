{
 "cells": [
  {
   "cell_type": "markdown",
   "metadata": {},
   "source": [
    "## Question 1 - Fradulent retail accounts"
   ]
  },
  {
   "cell_type": "markdown",
   "metadata": {},
   "source": [
    "Below is a daily table for an active accounts at Shopify (an online ecommerce, retail platform).\n",
    "\n",
    "The table is called store_account and the columns are:"
   ]
  },
  {
   "cell_type": "markdown",
   "metadata": {},
   "source": [
    "| Column Name | Data Type | Description |\n",
    "| --- | ---| --- |\n",
    "| store_id | integer | a unique Shopify store id |\n",
    "| --- | ---| --- |\n",
    "| date | string | date |\n",
    "| --- | ---| --- |\n",
    "| status | string | Possible values are: 'open', 'closed', 'fraud' |\n",
    "| --- | ---| --- |\n",
    "|revenue |double | Amount of spend in USD |\n",
    "| --- | ---| --- |"
   ]
  },
  {
   "cell_type": "markdown",
   "metadata": {},
   "source": [
    "Here's some more information about the table:\n",
    "\n",
    ">The granularity of the table is store_id and day\n",
    "\n",
    ">Assume “close” and “fraud” are permanent labels\n",
    "\n",
    ">Active = daily revenue > 0\n",
    "\n",
    ">Accounts get labeled by Shopify as fraudulent and they no longer can sell product\n",
    "\n",
    ">Every day of the table has every store_id that has ever been used by Shopify"
   ]
  },
  {
   "cell_type": "markdown",
   "metadata": {},
   "source": [
    "Given the above, write code using Python (Pandas library) to show what percent of active stores were fraudulent by day.\n",
    "Some clarifications:\n",
    "\n",
    ">We want one value for each day in the month.\n",
    "A store can be fraudulent and active on same day. E.g. they could generate revenue until 10AM, then be flagged as fradulent from 10AM onward.\n",
    "\n",
    "(Note: you should be able to write code here given solely the table schema (field names, descriptions above) -- it's fairly common in interviews to be provided the structure of tables and told to write a quick query.)"
   ]
  },
  {
   "cell_type": "markdown",
   "metadata": {},
   "source": [
    "I believe this should be the correct path. Although I am not sure if this will work, here are my logics:\n",
    ">Find all fraud from the table\n",
    ">Then find all days when store was active, regardless of if it was fraud or not\n",
    ">Finaly, group by the date, and since dates are listed as individual days, it should allow all print based on days stores are open and give the percentage of frauds\n",
    "\n",
    "I just don't have a proper way to test it. My understanding came from [The Pandas Documents](https://pandas.pydata.org/pandas-docs/stable/getting_started/comparison/comparison_with_sql.html)"
   ]
  },
  {
   "cell_type": "code",
   "execution_count": null,
   "metadata": {},
   "outputs": [],
   "source": [
    "fraud=store_account[store_accounts['status']=='fraud']\n",
    "active= store_account[store_accounts['status']==['fraud'], ['open']]\n",
    "total= (active/fraud).groupby(store_account[[date]])"
   ]
  },
  {
   "cell_type": "markdown",
   "metadata": {},
   "source": [
    "The answer below is what I found online. It uses SQL instead of Pandas "
   ]
  },
  {
   "cell_type": "code",
   "execution_count": null,
   "metadata": {},
   "outputs": [],
   "source": [
    "SELECT cast(sum(case when status='fraud' then 1 else 0 end) as real)/cast(count(store_id) as real) as fraud\n",
    "FROM AllShopRecords\n",
    "WHERE revenue > 0\n",
    "GROUP BY date\n",
    "ORDER BY date DESC"
   ]
  }
 ],
 "metadata": {
  "kernelspec": {
   "display_name": "Python 3",
   "language": "python",
   "name": "python3"
  },
  "language_info": {
   "codemirror_mode": {
    "name": "ipython",
    "version": 3
   },
   "file_extension": ".py",
   "mimetype": "text/x-python",
   "name": "python",
   "nbconvert_exporter": "python",
   "pygments_lexer": "ipython3",
   "version": "3.7.5"
  }
 },
 "nbformat": 4,
 "nbformat_minor": 2
}

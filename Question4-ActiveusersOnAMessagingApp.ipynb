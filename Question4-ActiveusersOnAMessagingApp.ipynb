{
 "cells": [
  {
   "cell_type": "markdown",
   "metadata": {},
   "source": [
    "Below is a table schema for a P2P messaging application. The table contains send/receive message data for the application's users, and has the following schema:"
   ]
  },
  {
   "cell_type": "markdown",
   "metadata": {},
   "source": [
    "| time_stamp (#timestamp, epoch seconds) |sender_id (# id of the message sender) |receiver_id (# id of the message receiver) |\n",
    "| --- | --- | --- |"
   ]
  },
  {
   "cell_type": "markdown",
   "metadata": {},
   "source": [
    "Question: What fraction of active users communicated with at least 15 unique people on March 1, 2018? You should be able to write complete code to answer this, given just the schema above."
   ]
  },
  {
   "cell_type": "markdown",
   "metadata": {},
   "source": [
    "select count(sender_id) from ActiveUsers where (select distinct(sender_id) = unique(receiver_id)>15) having time_stampt= \"March 1, 2018\";"
   ]
  },
  {
   "cell_type": "markdown",
   "metadata": {},
   "source": [
    "That's my thought on how it should be done. I am a bit stuck on how to relate the sender id with the receiver id. I will probably upload this when I figure it out"
   ]
  },
  {
   "cell_type": "code",
   "execution_count": null,
   "metadata": {},
   "outputs": [],
   "source": []
  }
 ],
 "metadata": {
  "kernelspec": {
   "display_name": "Python 3",
   "language": "python",
   "name": "python3"
  },
  "language_info": {
   "codemirror_mode": {
    "name": "ipython",
    "version": 3
   },
   "file_extension": ".py",
   "mimetype": "text/x-python",
   "name": "python",
   "nbconvert_exporter": "python",
   "pygments_lexer": "ipython3",
   "version": "3.7.5"
  }
 },
 "nbformat": 4,
 "nbformat_minor": 2
}

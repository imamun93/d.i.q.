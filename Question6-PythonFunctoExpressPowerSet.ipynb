{
 "cells": [
  {
   "cell_type": "markdown",
   "metadata": {},
   "source": [
    "Create a Python function that generates the power set given a set of values. For example, if you're given the following set:\n",
    "\n",
    ">set = {1, 2, 3}\n",
    "\n",
    "Your python function should return the corresponding power set:\n",
    "\n",
    ">power set = { {}, {1}, {2}, {3}, {1, 2}, {2, 3}, {1, 3}, {1, 2, 3} }"
   ]
  },
  {
   "cell_type": "code",
   "execution_count": 1,
   "metadata": {},
   "outputs": [],
   "source": [
    "import math"
   ]
  },
  {
   "cell_type": "code",
   "execution_count": 2,
   "metadata": {},
   "outputs": [],
   "source": [
    "def powerset(set, size):\n",
    "    #convert string to int then raise to power of 2\n",
    "    p_size = (int) (math.pow(2, size)); \n",
    "    #set initial counter and the next iterative variable to 0\n",
    "    counter = 0; \n",
    "    j = 0; \n",
    "    for counter in range(0, p_size): \n",
    "        for j in range(0, size): \n",
    "            if((counter & (1 << j)) > 0): \n",
    "                print(set[j], end = \"\"); \n",
    "        print(\"\"); "
   ]
  },
  {
   "cell_type": "code",
   "execution_count": 13,
   "metadata": {},
   "outputs": [],
   "source": [
    "setw = [1, 2, 3]"
   ]
  },
  {
   "cell_type": "code",
   "execution_count": 14,
   "metadata": {},
   "outputs": [
    {
     "name": "stdout",
     "output_type": "stream",
     "text": [
      "\n",
      "1\n",
      "2\n",
      "12\n",
      "3\n",
      "13\n",
      "23\n",
      "123\n"
     ]
    }
   ],
   "source": [
    "powerset(setw, 3)"
   ]
  },
  {
   "cell_type": "code",
   "execution_count": null,
   "metadata": {},
   "outputs": [],
   "source": []
  }
 ],
 "metadata": {
  "kernelspec": {
   "display_name": "Python 3",
   "language": "python",
   "name": "python3"
  },
  "language_info": {
   "codemirror_mode": {
    "name": "ipython",
    "version": 3
   },
   "file_extension": ".py",
   "mimetype": "text/x-python",
   "name": "python",
   "nbconvert_exporter": "python",
   "pygments_lexer": "ipython3",
   "version": "3.7.5"
  }
 },
 "nbformat": 4,
 "nbformat_minor": 2
}

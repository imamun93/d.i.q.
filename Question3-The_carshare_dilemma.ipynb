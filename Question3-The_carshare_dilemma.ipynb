{
 "cells": [
  {
   "cell_type": "markdown",
   "metadata": {},
   "source": [
    "We have selected a group of people to take a survey. \n",
    "\n",
    ">35% of the group like Uber\n",
    "\n",
    ">20% like both Lyft and Uber\n",
    "\n",
    ">25% like neither Lyft nor Uber\n",
    "\n",
    "Given this information, what percentage of the sample likes Lyft?"
   ]
  },
  {
   "cell_type": "markdown",
   "metadata": {},
   "source": [
    "Given that 25% likes nether, that only leaves with a total of 75% that likes at least one. \n",
    "\n",
    "Since 20% of total likes both Uber and Lyft but 35% of total likes Uber, the difference of group that solely likes Uber but not Lyft is 35-20= 15%. Only 15% of total sample surveyed likes Uber.\n",
    "\n",
    "From this, we now have Total{75%}- (people who likes both{35%}-people who only likes Uber {15%})= people who likes lyft{25%} "
   ]
  },
  {
   "cell_type": "code",
   "execution_count": 1,
   "metadata": {},
   "outputs": [],
   "source": [
    "def rideshare(a, both, nether):\n",
    "    return 1- nether-(a-both)"
   ]
  }
 ],
 "metadata": {
  "kernelspec": {
   "display_name": "Python 3",
   "language": "python",
   "name": "python3"
  },
  "language_info": {
   "codemirror_mode": {
    "name": "ipython",
    "version": 3
   },
   "file_extension": ".py",
   "mimetype": "text/x-python",
   "name": "python",
   "nbconvert_exporter": "python",
   "pygments_lexer": "ipython3",
   "version": "3.7.5"
  }
 },
 "nbformat": 4,
 "nbformat_minor": 2
}

{
 "cells": [
  {
   "cell_type": "markdown",
   "metadata": {},
   "source": [
    "## Question 2 - Calculating a moving average using Python"
   ]
  },
  {
   "cell_type": "markdown",
   "metadata": {},
   "source": [
    "You are given a list of numbers J and a single number p.\n",
    "\n",
    "Write a function to return the minimum and maximum averages of the sequences of p numbers in J."
   ]
  },
  {
   "cell_type": "markdown",
   "metadata": {},
   "source": [
    "Example:\n",
    "\n",
    ">J = [4, 4, 4, 9, 10, 11, 12]\n",
    "\n",
    ">p = 3"
   ]
  },
  {
   "cell_type": "markdown",
   "metadata": {},
   "source": [
    "The sequences will be:\n",
    "\n",
    ">(4,4,4)\n",
    "\n",
    ">(4,4,9)\n",
    "\n",
    ">(4,9,10)\n",
    "\n",
    ">(9,10,11)\n",
    "\n",
    ">(10,11,12)\n",
    "\n",
    "Here the minimum average will be 4 and the maximum average will be 11, which corresponds to the first and last sequences."
   ]
  },
  {
   "cell_type": "code",
   "execution_count": 1,
   "metadata": {},
   "outputs": [],
   "source": [
    "import numpy as np"
   ]
  },
  {
   "cell_type": "code",
   "execution_count": 4,
   "metadata": {},
   "outputs": [],
   "source": [
    "def moving_avg(x, y):\n",
    "    weights= np.repeat(1.0, y)/y\n",
    "    ma= np.convolve(x, weights, mode='valid')\n",
    "    return ma\n"
   ]
  },
  {
   "cell_type": "code",
   "execution_count": 5,
   "metadata": {},
   "outputs": [
    {
     "data": {
      "text/plain": [
       "array([ 4.        ,  5.66666667,  7.66666667, 10.        , 11.        ])"
      ]
     },
     "execution_count": 5,
     "metadata": {},
     "output_type": "execute_result"
    }
   ],
   "source": [
    "J = [4, 4, 4, 9, 10, 11, 12]\n",
    "moving_avg(J, 3)"
   ]
  }
 ],
 "metadata": {
  "kernelspec": {
   "display_name": "Python 3",
   "language": "python",
   "name": "python3"
  },
  "language_info": {
   "codemirror_mode": {
    "name": "ipython",
    "version": 3
   },
   "file_extension": ".py",
   "mimetype": "text/x-python",
   "name": "python",
   "nbconvert_exporter": "python",
   "pygments_lexer": "ipython3",
   "version": "3.7.5"
  }
 },
 "nbformat": 4,
 "nbformat_minor": 2
}

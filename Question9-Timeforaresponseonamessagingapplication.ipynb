{
 "cells": [
  {
   "cell_type": "markdown",
   "metadata": {},
   "source": [
    "Below is a table schema for a P2P messaging application. The table contains send/receive message data for the application's users."
   ]
  },
  {
   "cell_type": "markdown",
   "metadata": {},
   "source": [
    "| Column Name | Data Type |Description|\n",
    "|--- | --- | --- |\n",
    "| date | string | date of the message sent/received, format is 'YYYY-mm-dd' |\n",
    "| timestamp | integer | timestamp of the message sent/received, epoch seconds |\n",
    "| sender_id | integer | id of the message sender |\n",
    "| receiver_id | integer | id of the message receiver|"
   ]
  },
  {
   "cell_type": "markdown",
   "metadata": {},
   "source": [
    "Question: Using Python and the Pandas library, how would you find the fraction of messages that get a response within 5 minutes?"
   ]
  },
  {
   "cell_type": "markdown",
   "metadata": {},
   "source": [
    "Since this question is similar to question 4, I used the same logic. But I don't have premium, so not sure if it's correct.\n",
    "\n",
    "select sender_id, reciever_id from table where date(table.timestamp) - interval '5' minutes;"
   ]
  },
  {
   "cell_type": "code",
   "execution_count": null,
   "metadata": {},
   "outputs": [],
   "source": []
  }
 ],
 "metadata": {
  "kernelspec": {
   "display_name": "Python 3",
   "language": "python",
   "name": "python3"
  },
  "language_info": {
   "codemirror_mode": {
    "name": "ipython",
    "version": 3
   },
   "file_extension": ".py",
   "mimetype": "text/x-python",
   "name": "python",
   "nbconvert_exporter": "python",
   "pygments_lexer": "ipython3",
   "version": "3.7.4"
  }
 },
 "nbformat": 4,
 "nbformat_minor": 2
}

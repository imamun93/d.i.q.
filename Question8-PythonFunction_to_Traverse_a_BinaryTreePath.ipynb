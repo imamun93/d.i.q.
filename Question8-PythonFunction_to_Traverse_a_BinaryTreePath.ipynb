{
 "cells": [
  {
   "cell_type": "markdown",
   "metadata": {},
   "source": [
    "Question: For a given binary tree, write a function to return all root-to-leaf paths.\n",
    "\n",
    "We'll use the tree below to walk through how your code should work. \"A\" is the root, and \"E\" would be considered the leaf in the path A-> B -> E.\n",
    "\n",
    "The expectation for your function is to return all root to leaf combinations.\n",
    "\n",
    "The output of your code, given the tree below, would be: [\"A -> B -> E\", \"A -> B -> D\", \"A-> C\"] {NOTE: A is 1, B is 2, C is 3, D is 4, E is 5}"
   ]
  },
  {
   "cell_type": "markdown",
   "metadata": {},
   "source": [
    "                          A\n",
    "                         / \\\n",
    "                        B    C\n",
    "                       /  \\\n",
    "                      E     D "
   ]
  },
  {
   "cell_type": "code",
   "execution_count": 1,
   "metadata": {},
   "outputs": [],
   "source": [
    "#Define a class for creating the tree\n",
    "class Node:\n",
    "    def __init__(self, data):\n",
    "        self.data= data\n",
    "        self.left= None\n",
    "        self.right= None\n",
    "        \n",
    "    \n",
    "#primary print function\n",
    "def tree(root):\n",
    "    path=[]\n",
    "    printPath(root, path, 0) #prints to left\n",
    "    \n",
    "def printPath(root, path, lenPath):\n",
    "    if root is None:\n",
    "        return 0\n",
    "    \n",
    "    if len(path)> lenPath:\n",
    "        path[lenPath]= root.data #if path is greater than the lenght of the path, add to root data\n",
    "    else:\n",
    "        path.append(root.data)\n",
    "        \n",
    "    lenPath= lenPath +1\n",
    "    \n",
    "    if root.left is None and root.right is None:\n",
    "        Array(path, lenPath)\n",
    "    else:\n",
    "        printPath(root.left, path, lenPath)\n",
    "        printPath(root.right, path, lenPath)\n",
    "        \n",
    "def Array(ints, len):\n",
    "    for i in ints[0 : len]: \n",
    "        print(i,\" \",end=\"\") \n",
    "    print() "
   ]
  },
  {
   "cell_type": "code",
   "execution_count": 5,
   "metadata": {},
   "outputs": [
    {
     "name": "stdout",
     "output_type": "stream",
     "text": [
      "1  2  5  \n",
      "1  2  4  \n",
      "1  3  \n"
     ]
    }
   ],
   "source": [
    "root = Node(1) \n",
    "root.left = Node(2) \n",
    "root.right = Node(3) \n",
    "root.left.left = Node(5) \n",
    "root.left.right = Node(4) \n",
    "tree(root)"
   ]
  },
  {
   "cell_type": "code",
   "execution_count": null,
   "metadata": {},
   "outputs": [],
   "source": []
  }
 ],
 "metadata": {
  "kernelspec": {
   "display_name": "Python 3",
   "language": "python",
   "name": "python3"
  },
  "language_info": {
   "codemirror_mode": {
    "name": "ipython",
    "version": 3
   },
   "file_extension": ".py",
   "mimetype": "text/x-python",
   "name": "python",
   "nbconvert_exporter": "python",
   "pygments_lexer": "ipython3",
   "version": "3.7.5"
  }
 },
 "nbformat": 4,
 "nbformat_minor": 2
}

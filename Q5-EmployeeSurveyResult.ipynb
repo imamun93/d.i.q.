{
 "cells": [
  {
   "cell_type": "markdown",
   "metadata": {},
   "source": [
    "You're consulting for a company, and you've sent out a survey that asks successive qustions randomly. The survey logs data into a table called survey_logging. The schema of the table is:\n",
    "\n"
   ]
  },
  {
   "cell_type": "markdown",
   "metadata": {},
   "source": [
    "| Column Name | Data Type | Description |\n",
    "| --- | --- | --- |\n",
    "| employee_id | integer | employee id of the survey respondant |\n",
    "| --- | --- | --- |\n",
    "| action | string | Will be one of the following values, 'view', 'answer', 'skip' |\n",
    "| --- | --- | --- |\n",
    "| question_id | integer | ID of the question asked |\n",
    "| --- | --- | --- |\n",
    "| answer_id | integer | ID of the answer asked |\n",
    "| --- | --- | --- |\n",
    "| timestamp | integer | time stamp of the action made by respondant|"
   ]
  },
  {
   "cell_type": "markdown",
   "metadata": {},
   "source": [
    "Question: Using SQL, find which question has the highest response rate."
   ]
  },
  {
   "cell_type": "markdown",
   "metadata": {},
   "source": [
    "select question_id, count(answer_id) as TotalAnswers from survey_logging where action= \"answer\" group by answer_id order by TotalAnswer desc;"
   ]
  }
 ],
 "metadata": {
  "kernelspec": {
   "display_name": "Python 3",
   "language": "python",
   "name": "python3"
  },
  "language_info": {
   "codemirror_mode": {
    "name": "ipython",
    "version": 3
   },
   "file_extension": ".py",
   "mimetype": "text/x-python",
   "name": "python",
   "nbconvert_exporter": "python",
   "pygments_lexer": "ipython3",
   "version": "3.7.5"
  }
 },
 "nbformat": 4,
 "nbformat_minor": 2
}

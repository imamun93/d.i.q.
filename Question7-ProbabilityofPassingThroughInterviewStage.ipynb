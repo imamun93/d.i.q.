{
 "cells": [
  {
   "cell_type": "markdown",
   "metadata": {},
   "source": [
    "Question: Given the information below, if you had a good first interview, what is the probability you will receive a second interview?\n",
    "\n",
    ">50% of all people who received a first interview received a second interview\n",
    "\n",
    "\n",
    ">95% of people that received a second interview had a good first interview\n",
    "\n",
    ">75% of people that did not receive a second interview had a good first interview"
   ]
  },
  {
   "cell_type": "markdown",
   "metadata": {},
   "source": [
    "To solve this, we have to go with Bayes Theorem and assume that all distribution are even and no bias exist.\n",
    "\n",
    "There is a good example of it already in [Stats Exchange](https://stats.stackexchange.com/questions/86015/amazon-interview-question-probability-of-2nd-interview) by Alex William so I will just paste that here instead. The solution is also pasted below\n",
    "\n",
    "If I can think of a better explanation, I will update this later"
   ]
  },
  {
   "cell_type": "markdown",
   "metadata": {},
   "source": [
    "#### Let\n",
    "pass= being invited to a second interview\\\n",
    "fail= not being so invited\\\n",
    "good= feel good about first interview, \\\n",
    "and\\\n",
    "bad= don't feel good about first interview.\\\n",
    "𝑝(pass)𝑝(good∣pass)𝑝(good∣fail)𝑝(pass∣good)=0.5=0.95=0.75=?"
   ]
  },
  {
   "cell_type": "markdown",
   "metadata": {},
   "source": [
    ">𝑝(pass∣good)=𝑝(good∣pass)×𝑝(pass)\\\n",
    "              >>>-----------------\\\n",
    "              >>>   𝑝(good)"
   ]
  },
  {
   "cell_type": "markdown",
   "metadata": {},
   "source": [
    ">𝑝(good)=𝑝(good∣pass)×𝑝(pass)+𝑝(good∣fail)×𝑝(fail)=0.5(0.95+0.75)=0.85\n",
    " \n",
    "Thus:\n",
    "\n",
    ">𝑝(pass∣good)=(0.95×0.50)/.85≈0.559"
   ]
  },
  {
   "cell_type": "code",
   "execution_count": null,
   "metadata": {},
   "outputs": [],
   "source": []
  }
 ],
 "metadata": {
  "kernelspec": {
   "display_name": "Python 3",
   "language": "python",
   "name": "python3"
  },
  "language_info": {
   "codemirror_mode": {
    "name": "ipython",
    "version": 3
   },
   "file_extension": ".py",
   "mimetype": "text/x-python",
   "name": "python",
   "nbconvert_exporter": "python",
   "pygments_lexer": "ipython3",
   "version": "3.7.5"
  }
 },
 "nbformat": 4,
 "nbformat_minor": 2
}
